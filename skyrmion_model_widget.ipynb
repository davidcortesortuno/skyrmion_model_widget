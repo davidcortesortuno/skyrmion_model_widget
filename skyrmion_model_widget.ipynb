{
 "cells": [
  {
   "cell_type": "markdown",
   "metadata": {},
   "source": [
    "# Model for a magnetic skyrmion"
   ]
  },
  {
   "cell_type": "markdown",
   "metadata": {},
   "source": [
    "A linear model to describe the vector field of spins (classical model) of a magnetic skyrmion [1] is given by\n",
    "\n",
    "$$\\vec{s}=\\zeta\\sin(\\Theta)\\cos(\\chi \\Psi + \\phi) \\hat{x} + \\zeta\\sin(\\Theta)\\sin(\\chi \\Psi + \\phi) \\hat{y} - \\zeta\\cos(\\theta) \\hat{z}$$\n",
    "\n",
    "with the functions $\\Theta$ and $\\Psi$ described in cylindrical coordinates. Notice that the spin vector in this equations is normalized. A linear approximation [1] for the $\\Theta$ function is given by\n",
    "\n",
    "$$\\Theta = \\frac{\\pi}{r_\\mathrm{sk}} r$$\n",
    "$$r=\\sqrt{x^2 + y^2}$$\n",
    "\n",
    "Outside $r_{\\mathrm{sk}}$, the background of spins is given by $(0, 0, \\zeta)$, which is opposite to the orientation of the spin at the skyrmion center.\n",
    "\n",
    "The skyrmion profile can be modified by its helicity, chirality and vorticity. The chirality specifies the sense of rotation of the magnetic configuration. The vorticity can have values -1 or 1, and the helicity is specified with values in the $[0, \\pi]$ range. \n",
    "\n",
    "In this notebook, we use this model to plot the spin field in a triangular lattice of spins. \n",
    "\n",
    "[1] Beg *et al*, Scientific Reports **5**, 17137 (2015) https://www.nature.com/articles/srep17137\n"
   ]
  },
  {
   "cell_type": "markdown",
   "metadata": {},
   "source": [
    "## Imports"
   ]
  },
  {
   "cell_type": "code",
   "execution_count": 1,
   "metadata": {},
   "outputs": [],
   "source": [
    "import numpy as np\n",
    "import matplotlib.pyplot as plt\n",
    "import matplotlib as mpl\n",
    "from matplotlib.collections import PolyCollection\n",
    "from ipywidgets import HBox, VBox, FloatSlider, IntSlider, link\n",
    "from IPython.display import display, clear_output"
   ]
  },
  {
   "cell_type": "code",
   "execution_count": 2,
   "metadata": {},
   "outputs": [],
   "source": [
    "%matplotlib widget"
   ]
  },
  {
   "cell_type": "code",
   "execution_count": 3,
   "metadata": {},
   "outputs": [
    {
     "data": {
      "application/vnd.jupyter.widget-view+json": {
       "model_id": "",
       "version_major": 2,
       "version_minor": 0
      },
      "text/plain": [
       "FigureCanvasNbAgg()"
      ]
     },
     "metadata": {},
     "output_type": "display_data"
    }
   ],
   "source": [
    "plt.clf()\n",
    "plt.ion()"
   ]
  },
  {
   "cell_type": "markdown",
   "metadata": {},
   "source": [
    "## Functions"
   ]
  },
  {
   "cell_type": "code",
   "execution_count": 4,
   "metadata": {},
   "outputs": [],
   "source": [
    "def init_coordinates(nx, ny, radius):\n",
    "    \"\"\"\n",
    "    Generates the coordinates of a nx * ny triangular lattice of points\n",
    "    arranged in a square geometry\n",
    "    \n",
    "    The distance between consecutive points are specified by the radius of the\n",
    "    hexagons defined by the triangular lattice\n",
    "    \"\"\"\n",
    "    n = nx * ny\n",
    "    dy = np.sqrt(3) * radius\n",
    "    dx = 2.0 * radius\n",
    "    h = dx * 2. / np.sqrt(3)\n",
    "    coordinates = np.zeros((n, 3))\n",
    "    for j in range(ny):\n",
    "        for i in range(nx):\n",
    "            index = get_index(nx, ny, i, j)\n",
    "            # For a square alignment, the hexagons will\n",
    "            # always be in the same x-position for even numbered rows (j)\n",
    "            # x(i=0) = dx * 0.5\n",
    "            # if alignment == 'square':\n",
    "            if j % 2 == 0:\n",
    "                sign = 1\n",
    "            else:\n",
    "                sign = 0\n",
    "\n",
    "            r = (sign * dx / 2.0 + i * dx + dx / 2.0,\n",
    "                 j * dy + h / 2.0,\n",
    "                 0)\n",
    "\n",
    "            coordinates[index] = r\n",
    "    return coordinates\n",
    "\n",
    "def get_index(nx, ny, i, j):\n",
    "    \"\"\"\n",
    "    Returns the index for the cell with ordinals i, j\n",
    "    or False if that cell would be out of bounds.\n",
    "\n",
    "    \"\"\"\n",
    "    if i < 0 or j < 0 or i >= nx or j >= ny:\n",
    "        return -1\n",
    "    return i + j * nx\n",
    "\n",
    "def hexagon_corners(x, y, radius):\n",
    "    \"\"\"\n",
    "    Returns the coordinates of the corners of the hexagonal with\n",
    "    center at `x`, `y` and radius `radius`.\n",
    "\n",
    "    \"\"\"\n",
    "    angle_deg = [60 * i + 30 for i in range(6)]\n",
    "    angle_rad = [a * np.pi / 180 for a in angle_deg]\n",
    "    return [(x + radius * np.cos(theta),\n",
    "             y + radius * np.sin(theta),\n",
    "             0) for theta in angle_rad]\n",
    "\n",
    "def init_corners(coordinates, nx, ny, radius):\n",
    "    \"\"\"\n",
    "    Generates the corners of the hexagons defined by the triangular lattice\n",
    "    The lattice coordinates are used as input\n",
    "    \"\"\"\n",
    "    dy = np.sqrt(3) * radius\n",
    "    dx = 2.0 * radius\n",
    "    h = dx * 2. / np.sqrt(3)\n",
    "\n",
    "    corners = []\n",
    "    for j in range(ny):\n",
    "        for i in range(nx):\n",
    "            index = get_index(nx, ny, i, j)\n",
    "            x, y = c[index][0], c[index][1]\n",
    "            # self.radius is the inradius while self.h/2  is the circumradius\n",
    "            corners.append(hexagon_corners(x, y, h * 0.5))\n",
    "\n",
    "    corners = np.array(corners)\n",
    "    corners = corners[:, :, :2]\n",
    "    \n",
    "    return corners\n",
    "\n",
    "def s_skyrmion(r, r_sk, center=(0, 0), helicity=(0.5 * np.pi), vorticity=1, chirality=1):\n",
    "    \"\"\"\n",
    "    A linear model for the spin field of a magnetic skyrmion\n",
    "    \n",
    "    Given a coordinate r, and skyrmion radius r_sk, produce the spin field:\n",
    "    \n",
    "    m = chirality * sin theta cos( psi + helicity) X\n",
    "        chirality * sin theta sin( psi + helicity) Y\n",
    "        -chirality * cos theta Z\n",
    "        \n",
    "    If the position is outside r_sk, the function returns (0, 0, chirality),\n",
    "    which is opposite to the skyrmion center\n",
    "    \"\"\"\n",
    "    x, y = r[0] - center[0], r[1] - center[1]\n",
    "    rho = np.sqrt(x ** 2 + y ** 2)\n",
    "    psi = vorticity * np.arctan2(y, x) + helicity\n",
    "    k = np.pi / r_sk\n",
    "    \n",
    "    if rho <= r_sk:\n",
    "        return np.array([chirality * np.sin(k * rho) * np.cos(psi),\n",
    "                         chirality * np.sin(k * rho) * np.sin(psi),\n",
    "                         -chirality * np.cos(k * rho)]\n",
    "                        )\n",
    "    else:\n",
    "        return np.array([0, 0, chirality])\n",
    "\n",
    "# Vectorize the spin field generator\n",
    "# Might not be necessary, we could also use np.apply_along_axis\n",
    "s_skyrmion_v = np.vectorize(s_skyrmion, \n",
    "                            signature='(3)->(3)',  # signature of pyfunc!\n",
    "                            otypes=[np.float],\n",
    "                            excluded=['r_sk', 'center', 'helicity', 'vorticity', 'chirality'])\n",
    "\n",
    "def get_spins(coordinates, r_sk, center=(0, 0), helicity=0, vorticity=1, chirality=1):\n",
    "    \"\"\"\n",
    "    Returns the spin field with a skyrmion, using the coordinates from a triangular lattice\n",
    "    Skyrmion parameters can be passed as arguments\n",
    "    \"\"\"\n",
    "    spin = s_skyrmion_v(coordinates, r_sk=r_sk, center=center, helicity=helicity, vorticity=vorticity, chirality=chirality)\n",
    "    spin_n = np.sqrt(spin[:, 0] ** 2 + spin[:, 1] ** 2 + spin[:, 2] ** 2)\n",
    "    spin[spin_n > 0] /= spin_n[spin_n > 0][:, np.newaxis]\n",
    "    return spin"
   ]
  },
  {
   "cell_type": "markdown",
   "metadata": {},
   "source": [
    "## Widget"
   ]
  },
  {
   "cell_type": "markdown",
   "metadata": {},
   "source": [
    "The plot shows the in plane component of the atoms, in the $xy$ plane. The colours are from the out of plane components of the spin, $s_z$"
   ]
  },
  {
   "cell_type": "code",
   "execution_count": 5,
   "metadata": {},
   "outputs": [],
   "source": [
    "nx, ny, radius = 30, 30, 1\n",
    "\n",
    "# Generate the coordinates of the triangular lattice of spins\n",
    "c = init_coordinates(nx, ny, radius)\n",
    "cenx = (c[:, 0].max() - c[:, 0].min()) * 0.5 + c[:, 0].min()\n",
    "ceny = (c[:, 1].max() - c[:, 1].min()) * 0.5 + c[:, 1].min()\n",
    "\n",
    "# Get the corners of the hexagons defined by the triangular lattice\n",
    "corners = init_corners(c, nx, ny, radius)\n",
    "\n",
    "# Get the spin field with a skyrmion\n",
    "spin = get_spins(c, r_sk=14, center=(cenx, ceny))"
   ]
  },
  {
   "cell_type": "code",
   "execution_count": 6,
   "metadata": {},
   "outputs": [],
   "source": [
    "plt.close('all')"
   ]
  },
  {
   "cell_type": "code",
   "execution_count": 7,
   "metadata": {
    "scrolled": false
   },
   "outputs": [
    {
     "data": {
      "application/vnd.jupyter.widget-view+json": {
       "model_id": "5cf4df396f77428a8e3916df919ddc04",
       "version_major": 2,
       "version_minor": 0
      },
      "text/plain": [
       "VBox(children=(FloatSlider(value=0.0, description='Helicity $\\\\phi$', max=3.141592653589793, step=0.3141592653…"
      ]
     },
     "metadata": {},
     "output_type": "display_data"
    }
   ],
   "source": [
    "z = np.random.random(corners.shape[0])\n",
    "\n",
    "fig, ax = plt.subplots(figsize=(6, 5))\n",
    "\n",
    "hel_slider = FloatSlider(orientation='horizontal',\n",
    "                         value=0.0, min=0.0, max=np.pi, step=np.pi/10,\n",
    "                         description='Helicity ' + r'$\\phi$')\n",
    "\n",
    "vor_slider = IntSlider(orientation='horizontal',\n",
    "                       value=1, min=-1, max=1, step=2,\n",
    "                       description='Vorticity ' + r'$\\xi$')\n",
    "\n",
    "chi_slider = IntSlider(orientation='horizontal',\n",
    "                       value=1, min=-1, max=1, step=2,\n",
    "                       description='Chirality ' + r'$\\zeta$')\n",
    "\n",
    "rad_slider = IntSlider(orientation='horizontal',\n",
    "                       value=14, min=2, max=25, step=1,\n",
    "                       description='Sk radius')\n",
    "\n",
    "# Make the collection of hexagons and add it to the plot.\n",
    "# We draw hexagons at every spin position\n",
    "coll = PolyCollection(corners, \n",
    "                      # array=z,\n",
    "                      array=spin[:, 2],\n",
    "                      cmap=mpl.cm.RdYlBu,\n",
    "                      edgecolors='none',\n",
    "                      alpha=0.3\n",
    "                      )\n",
    "ax.add_collection(coll)\n",
    "ax.autoscale_view()\n",
    "\n",
    "# Plot the directions of the spins in the XY plane\n",
    "q = ax.quiver(c[:, 0], c[:, 1], spin[:, 0], spin[:, 1],\n",
    "              spin[:, 2],\n",
    "              width=0.004, headwidth=4, headlength=5, edgecolor='k', lw=0.2,\n",
    "              scale=30, pivot='mid',\n",
    "              cmap='RdYlBu'\n",
    "              )\n",
    "\n",
    "ax.set_title('Skyrmion model' + '\\n' +\n",
    "            r'$\\vec{m}=\\zeta\\sin(\\Theta)\\cos(\\chi \\Psi + \\phi) \\hat{x} + \\zeta\\sin(\\Theta)\\sin(\\chi \\Psi + \\phi) \\hat{y} - \\zeta\\cos(\\theta) \\hat{z}$')\n",
    "\n",
    "# Colorbar\n",
    "box = ax.get_position()\n",
    "axCb = plt.axes([box.x0 + 0.015, 0.2, box.width * 0.2, 0.02])\n",
    "cb = mpl.colorbar.ColorbarBase(axCb, plt.cm.RdYlBu, orientation=\"horizontal\",\n",
    "                               ticks=[-1, 0, 1], \n",
    "                               norm=mpl.colors.Normalize(vmin=-1, vmax=1))\n",
    "cb.set_label(r'$s_{z}$', rotation=0, y=.5, labelpad=-0, fontsize=14)\n",
    "# axCb.yaxis.set_ticks_position('left')\n",
    "\n",
    "clear_output()\n",
    "\n",
    "# Widget --------------------------------------------------------------------------------\n",
    "# Here we tune the skyrmion profile and update the plot accordingly\n",
    "\n",
    "def update(change, param='chirality'):\n",
    "    if param=='chirality':\n",
    "        spin = get_spins(c, r_sk=rad_slider.value, center=(cenx, ceny), \n",
    "                         helicity=hel_slider.value, vorticity=vor_slider.value, chirality=change.new)\n",
    "        \n",
    "        # coll.set_array(-np/ones((spin.shape[0] // 3)))\n",
    "        coll.set_array(spin[:, 2])\n",
    "        \n",
    "    elif param=='vorticity':\n",
    "        spin = get_spins(c, r_sk=rad_slider.value, center=(cenx, ceny),\n",
    "                         helicity=hel_slider.value, vorticity=change.new, chirality=chi_slider.value)    \n",
    "    elif param=='helicity':\n",
    "        spin = get_spins(c, r_sk=rad_slider.value, center=(cenx, ceny),\n",
    "                         helicity=change.new, vorticity=vor_slider.value, chirality=chi_slider.value)    \n",
    "    elif param=='radius':\n",
    "        spin = get_spins(c, r_sk=change.new, center=(cenx, ceny),\n",
    "                         helicity=hel_slider.value, vorticity=vor_slider.value, chirality=chi_slider.value)\n",
    "        \n",
    "    q.set_UVC(spin[:, 0], spin[:, 1], spin[:, 2])\n",
    "    # q.update()    \n",
    "    fig.canvas.draw()\n",
    "    fig.canvas.flush_events()\n",
    "    # fig.tight_layout()\n",
    "    \n",
    "hel_slider.observe(lambda c: update(c, param='helicity'), names='value')\n",
    "vor_slider.observe(lambda c: update(c, param='vorticity'), names='value')\n",
    "chi_slider.observe(lambda c: update(c, param='chirality'), names='value')\n",
    "rad_slider.observe(lambda c: update(c, param='radius'), names='value')\n",
    "\n",
    "VBox([hel_slider, vor_slider, chi_slider, rad_slider, fig.canvas])"
   ]
  },
  {
   "cell_type": "code",
   "execution_count": null,
   "metadata": {},
   "outputs": [],
   "source": []
  }
 ],
 "metadata": {
  "kernelspec": {
   "display_name": "Python 3",
   "language": "python",
   "name": "python3"
  },
  "language_info": {
   "codemirror_mode": {
    "name": "ipython",
    "version": 3
   },
   "file_extension": ".py",
   "mimetype": "text/x-python",
   "name": "python",
   "nbconvert_exporter": "python",
   "pygments_lexer": "ipython3",
   "version": "3.6.8"
  },
  "widgets": {
   "application/vnd.jupyter.widget-state+json": {
    "state": {
     "17d4a2c747994624b01a131a7a06a651": {
      "model_module": "@jupyter-widgets/controls",
      "model_module_version": "1.4.0",
      "model_name": "SliderStyleModel",
      "state": {
       "description_width": ""
      }
     },
     "296e89a1826541a8b47be3c7d2829cdf": {
      "model_module": "@jupyter-widgets/base",
      "model_module_version": "1.1.0",
      "model_name": "LayoutModel",
      "state": {}
     },
     "38ec6d9bfd234901b3f7b5c21c68efb1": {
      "model_module": "@jupyter-widgets/base",
      "model_module_version": "1.1.0",
      "model_name": "LayoutModel",
      "state": {}
     },
     "3cc2f723417443af9580a422dddee772": {
      "model_module": "@jupyter-widgets/controls",
      "model_module_version": "1.4.0",
      "model_name": "IntSliderModel",
      "state": {
       "description": "Sk radius",
       "layout": "IPY_MODEL_fdb5255e16674df9b8edf4b590e16835",
       "max": 25,
       "min": 2,
       "style": "IPY_MODEL_d5f68c58738d4dd0b6a49c5e35394180",
       "value": 14
      }
     },
     "3ebcfadf12204782b7d1ede8bccf5293": {
      "model_module": "@jupyter-widgets/base",
      "model_module_version": "1.1.0",
      "model_name": "LayoutModel",
      "state": {}
     },
     "43a34273ae3a4af2919756a7c27db8dc": {
      "model_module": "jupyter-matplotlib",
      "model_module_version": "^0.3.0",
      "model_name": "MPLCanvasModel",
      "state": {
       "_dom_classes": [],
       "_id": "",
       "_toolbar_items": [
        [
         "Home",
         "Reset original view",
         "fa fa-home icon-home",
         "home"
        ],
        [
         "Back",
         "Back to previous view",
         "fa fa-arrow-left icon-arrow-left",
         "back"
        ],
        [
         "Forward",
         "Forward to next view",
         "fa fa-arrow-right icon-arrow-right",
         "forward"
        ],
        [
         "",
         "",
         "",
         ""
        ],
        [
         "Pan",
         "Pan axes with left mouse, zoom with right",
         "fa fa-arrows icon-move",
         "pan"
        ],
        [
         "Zoom",
         "Zoom to rectangle",
         "fa fa-square-o icon-check-empty",
         "zoom"
        ],
        [
         "",
         "",
         "",
         ""
        ],
        [
         "Download",
         "Download plot",
         "fa fa-floppy-o icon-save",
         "download"
        ]
       ],
       "layout": "IPY_MODEL_4ff5eda406e44a9e809be4fd61543055"
      }
     },
     "45f50460268c4ed6a95717a5cd2fa03e": {
      "model_module": "@jupyter-widgets/controls",
      "model_module_version": "1.4.0",
      "model_name": "IntSliderModel",
      "state": {
       "description": "Chirality $\\zeta$",
       "layout": "IPY_MODEL_38ec6d9bfd234901b3f7b5c21c68efb1",
       "max": 1,
       "min": -1,
       "step": 2,
       "style": "IPY_MODEL_17d4a2c747994624b01a131a7a06a651",
       "value": 1
      }
     },
     "4ff5eda406e44a9e809be4fd61543055": {
      "model_module": "@jupyter-widgets/base",
      "model_module_version": "1.1.0",
      "model_name": "LayoutModel",
      "state": {}
     },
     "5456c923144c4add850792a8d92f2ff0": {
      "model_module": "@jupyter-widgets/controls",
      "model_module_version": "1.4.0",
      "model_name": "IntSliderModel",
      "state": {
       "description": "Vorticity $\\xi$",
       "layout": "IPY_MODEL_296e89a1826541a8b47be3c7d2829cdf",
       "max": 1,
       "min": -1,
       "step": 2,
       "style": "IPY_MODEL_b01a1568cff24ab9a23b7cf481cd1df4",
       "value": 1
      }
     },
     "7d8a957211b342d2b706b9a5242b0c45": {
      "model_module": "@jupyter-widgets/controls",
      "model_module_version": "1.4.0",
      "model_name": "FloatSliderModel",
      "state": {
       "description": "Helicity $\\phi$",
       "layout": "IPY_MODEL_3ebcfadf12204782b7d1ede8bccf5293",
       "max": 3.141592653589793,
       "step": 0.3141592653589793,
       "style": "IPY_MODEL_d3ad9f66621b48a9a04455df480e2cc6",
       "value": 1.5708
      }
     },
     "b01a1568cff24ab9a23b7cf481cd1df4": {
      "model_module": "@jupyter-widgets/controls",
      "model_module_version": "1.4.0",
      "model_name": "SliderStyleModel",
      "state": {
       "description_width": ""
      }
     },
     "b5c2b8f1c98846cdbe3ce957baae7f9b": {
      "model_module": "@jupyter-widgets/base",
      "model_module_version": "1.1.0",
      "model_name": "LayoutModel",
      "state": {}
     },
     "d3ad9f66621b48a9a04455df480e2cc6": {
      "model_module": "@jupyter-widgets/controls",
      "model_module_version": "1.4.0",
      "model_name": "SliderStyleModel",
      "state": {
       "description_width": ""
      }
     },
     "d5f68c58738d4dd0b6a49c5e35394180": {
      "model_module": "@jupyter-widgets/controls",
      "model_module_version": "1.4.0",
      "model_name": "SliderStyleModel",
      "state": {
       "description_width": ""
      }
     },
     "d961e58440074fa59644d3c7554579bf": {
      "model_module": "@jupyter-widgets/base",
      "model_module_version": "1.1.0",
      "model_name": "LayoutModel",
      "state": {}
     },
     "e95601c4e580417e9a9c11c38065108e": {
      "model_module": "@jupyter-widgets/controls",
      "model_module_version": "1.4.0",
      "model_name": "VBoxModel",
      "state": {
       "children": [
        "IPY_MODEL_7d8a957211b342d2b706b9a5242b0c45",
        "IPY_MODEL_5456c923144c4add850792a8d92f2ff0",
        "IPY_MODEL_45f50460268c4ed6a95717a5cd2fa03e",
        "IPY_MODEL_3cc2f723417443af9580a422dddee772",
        "IPY_MODEL_43a34273ae3a4af2919756a7c27db8dc"
       ],
       "layout": "IPY_MODEL_b5c2b8f1c98846cdbe3ce957baae7f9b"
      }
     },
     "fdb5255e16674df9b8edf4b590e16835": {
      "model_module": "@jupyter-widgets/base",
      "model_module_version": "1.1.0",
      "model_name": "LayoutModel",
      "state": {}
     }
    },
    "version_major": 2,
    "version_minor": 0
   }
  }
 },
 "nbformat": 4,
 "nbformat_minor": 2
}
